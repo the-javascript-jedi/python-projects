{
 "cells": [
  {
   "cell_type": "markdown",
   "id": "c9854401",
   "metadata": {},
   "source": [
    "# Notebook Basics\n",
    "\n",
    "## Level 2 Heading\n",
    "\n",
    "* bullet 1\n",
    "* bullet 2"
   ]
  },
  {
   "cell_type": "code",
   "execution_count": 3,
   "id": "e3271205",
   "metadata": {},
   "outputs": [
    {
     "data": {
      "text/plain": [
       "12.857142857142858"
      ]
     },
     "execution_count": 3,
     "metadata": {},
     "output_type": "execute_result"
    }
   ],
   "source": [
    "45/7 *2"
   ]
  },
  {
   "cell_type": "code",
   "execution_count": 4,
   "id": "b0534cdf",
   "metadata": {},
   "outputs": [
    {
     "data": {
      "text/plain": [
       "'hahahahahahahahahahahahahahahahahahahahahahahahahahahahahahahahahahahahahahahahahahahahahahahahahahahahahahahahahahahahahahahahahahahahahahahahahahahahahahahahahahahahahahahahahahahahahahahahahahaha'"
      ]
     },
     "execution_count": 4,
     "metadata": {},
     "output_type": "execute_result"
    }
   ],
   "source": [
    "\"ha\"*99"
   ]
  },
  {
   "cell_type": "code",
   "execution_count": 5,
   "id": "24f5dac8",
   "metadata": {},
   "outputs": [],
   "source": [
    "import statistics"
   ]
  },
  {
   "cell_type": "code",
   "execution_count": 7,
   "id": "4ee23a58",
   "metadata": {},
   "outputs": [],
   "source": [
    "statistics?"
   ]
  }
 ],
 "metadata": {
  "kernelspec": {
   "display_name": "Python 3 (ipykernel)",
   "language": "python",
   "name": "python3"
  },
  "language_info": {
   "codemirror_mode": {
    "name": "ipython",
    "version": 3
   },
   "file_extension": ".py",
   "mimetype": "text/x-python",
   "name": "python",
   "nbconvert_exporter": "python",
   "pygments_lexer": "ipython3",
   "version": "3.10.9"
  }
 },
 "nbformat": 4,
 "nbformat_minor": 5
}
