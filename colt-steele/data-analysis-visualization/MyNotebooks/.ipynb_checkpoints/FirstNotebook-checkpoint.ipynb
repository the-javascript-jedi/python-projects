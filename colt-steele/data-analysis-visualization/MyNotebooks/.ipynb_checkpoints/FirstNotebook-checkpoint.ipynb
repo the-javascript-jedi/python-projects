{
 "cells": [
  {
   "cell_type": "code",
   "execution_count": 2,
   "id": "e3271205",
   "metadata": {},
   "outputs": [
    {
     "data": {
      "text/plain": [
       "12.857142857142858"
      ]
     },
     "execution_count": 2,
     "metadata": {},
     "output_type": "execute_result"
    }
   ],
   "source": [
    "45/7 *2"
   ]
  },
  {
   "cell_type": "code",
   "execution_count": 3,
   "id": "3f7ea276",
   "metadata": {},
   "outputs": [
    {
     "data": {
      "text/plain": [
       "'hahahahahahahahahahahahahahahahahahahahahahahahahahahahahahahahahahahahahahahahahahahahahahahahahahahahahahahahahahahahahahahahahahahahahahahahahahahahahahahahahahahahahahahahahahahahahahahahahahaha'"
      ]
     },
     "execution_count": 3,
     "metadata": {},
     "output_type": "execute_result"
    }
   ],
   "source": [
    "\"ha\"*99"
   ]
  }
 ],
 "metadata": {
  "kernelspec": {
   "display_name": "Python 3 (ipykernel)",
   "language": "python",
   "name": "python3"
  },
  "language_info": {
   "codemirror_mode": {
    "name": "ipython",
    "version": 3
   },
   "file_extension": ".py",
   "mimetype": "text/x-python",
   "name": "python",
   "nbconvert_exporter": "python",
   "pygments_lexer": "ipython3",
   "version": "3.10.9"
  }
 },
 "nbformat": 4,
 "nbformat_minor": 5
}
